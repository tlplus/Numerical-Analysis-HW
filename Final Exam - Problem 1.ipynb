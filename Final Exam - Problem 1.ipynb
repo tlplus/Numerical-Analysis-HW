{
 "cells": [
  {
   "cell_type": "code",
   "execution_count": 15,
   "metadata": {},
   "outputs": [],
   "source": [
    "import numpy as np\n",
    "import math\n",
    "import decimal"
   ]
  },
  {
   "cell_type": "code",
   "execution_count": 16,
   "metadata": {},
   "outputs": [
    {
     "name": "stdout",
     "output_type": "stream",
     "text": [
      "n  xn  f(xn)\n",
      "0  0.2  0.21322080863057746\n",
      "\n",
      "\n",
      "\n",
      "Step: 1\n",
      "The value of xn = 0.296911454761667581436768159619532525539398193359375\n",
      "The value of function f(xn) = 0.040220217425210314\n",
      "\n",
      "Step: 2\n",
      "The value of xn = 0.325541248569245988964127036524587310850620269775390625\n",
      "The value of function f(xn) = 0.002902234697174655\n",
      "\n",
      "Step: 3\n",
      "The value of xn = 0.32795123213882970691912532856804318726062774658203125\n",
      "The value of function f(xn) = 1.9663461493291123e-05\n",
      "\n",
      "Step: 4\n",
      "The value of xn = 0.32796778455371577987165210288367234170436859130859375\n",
      "The value of function f(xn) = 9.242615561788625e-10\n",
      "\n",
      "Step: 5\n",
      "The value of xn = 0.327967785331818806326964477193541824817657470703125\n",
      "The value of function f(xn) = 0.0\n",
      "\n",
      "Step: 6\n",
      "The value of xn = 0.327967785331818806326964477193541824817657470703125\n",
      "The value of function f(xn) = 0.0\n",
      "\n",
      "It's convergence\n"
     ]
    }
   ],
   "source": [
    "'''By Thanh Lam'''\n",
    "def f(x):\n",
    "    return 2*x*(1-x*x+x)*math.log(x)-x*x +1\n",
    "\n",
    "def f1(x):\n",
    "    return -2*(x-1)*(x+3*x*math.log(x)+math.log(x)+1)\n",
    "\n",
    "def newton_method(f, f1, x, nmax, e, delta):\n",
    "    x1 = 0\n",
    "    fx = f(x)\n",
    "    print(\"n  \" + \"xn  \"+\"f(xn)\")\n",
    "    print(str(0) + \"  \" + str(x) + \"  \" + str(fx) +\"\\n\\n\\n\")\n",
    "    \n",
    "    for n in range(1, nmax):\n",
    "        fp = f1(x)\n",
    "        d = fx/fp\n",
    "        x1 = x\n",
    "        x = (x-d)\n",
    "        fx = f(x)\n",
    "        print(\"Step: \"+str(n))\n",
    "        print(\"The value of xn = \"+ str(decimal.Decimal(x)))\n",
    "        print(\"The value of function f(xn) = \"+ str(fx) +\"\\n\")\n",
    "        if abs(d)==0:\n",
    "            print(\"It's convergence\")\n",
    "            break\n",
    "        \n",
    "newton_method(f, f1, 0.2, 10, 0.5*(math.pow(10, -6)), 0.00001)"
   ]
  },
  {
   "cell_type": "markdown",
   "metadata": {},
   "source": [
    "The root of the equation is:\n",
    "\n",
    "x = 0.327967785331818806326964477193541824817657470703125"
   ]
  },
  {
   "cell_type": "code",
   "execution_count": null,
   "metadata": {},
   "outputs": [],
   "source": []
  }
 ],
 "metadata": {
  "kernelspec": {
   "display_name": "Python 3",
   "language": "python",
   "name": "python3"
  },
  "language_info": {
   "codemirror_mode": {
    "name": "ipython",
    "version": 3
   },
   "file_extension": ".py",
   "mimetype": "text/x-python",
   "name": "python",
   "nbconvert_exporter": "python",
   "pygments_lexer": "ipython3",
   "version": "3.6.8"
  }
 },
 "nbformat": 4,
 "nbformat_minor": 2
}
