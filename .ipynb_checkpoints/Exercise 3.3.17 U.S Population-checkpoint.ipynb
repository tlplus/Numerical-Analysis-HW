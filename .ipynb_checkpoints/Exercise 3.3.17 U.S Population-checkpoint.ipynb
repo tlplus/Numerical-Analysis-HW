{
 "cells": [
  {
   "cell_type": "markdown",
   "metadata": {},
   "source": [
    "Calculate population in 1950, 1975, 2014 and 2020"
   ]
  },
  {
   "cell_type": "code",
   "execution_count": 1,
   "metadata": {},
   "outputs": [
    {
     "name": "stdout",
     "output_type": "stream",
     "text": [
      "Population in 1950: 192539\n",
      "Population in 1975: 215526\n",
      "Population in 2014: 306215\n",
      "Population in 2020: 266165\n",
      "Population in 1980: 226542\n",
      "Population in 2000: 281422\n",
      "Population in 2010: 308746\n"
     ]
    }
   ],
   "source": [
    "x0 = 1960\n",
    "x1 = 1970\n",
    "x2 = 1980\n",
    "x3 = 1990\n",
    "x4 = 2000\n",
    "x5 = 2010\n",
    "\n",
    "y0 = 179323\n",
    "y1 = 203302\n",
    "y2 = 226542\n",
    "y3 = 249633\n",
    "y4 = 281422\n",
    "y5 = 308746\n",
    "for year in (1950, 1975, 2014, 2020, 1980, 2000, 2010,):\n",
    "    x = year\n",
    "    a = ((x-x1)*(x-x2)*(x-x3)*(x-x4)*(x-x5)*y0)/((x0-x1)*(x0-x2)*(x0-x3)*(x0-x4)*(x0-x5))\n",
    "    b = ((x-x0)*(x-x2)*(x-x3)*(x-x4)*(x-x5)*y1)/((x1-x0)*(x1-x2)*(x1-x3)*(x1-x4)*(x1-x5))\n",
    "    c = ((x-x1)*(x-x0)*(x-x3)*(x-x4)*(x-x5)*y2)/((x2-x1)*(x2-x0)*(x2-x3)*(x2-x4)*(x2-x5))\n",
    "    d = ((x-x1)*(x-x2)*(x-x0)*(x-x4)*(x-x5)*y3)/((x3-x1)*(x3-x2)*(x3-x0)*(x3-x4)*(x3-x5))\n",
    "    e = ((x-x1)*(x-x2)*(x-x3)*(x-x0)*(x-x5)*y4)/((x4-x1)*(x4-x2)*(x4-x3)*(x4-x0)*(x4-x5))\n",
    "    f = ((x-x1)*(x-x2)*(x-x3)*(x-x4)*(x-x0)*y5)/((x5-x1)*(x5-x2)*(x5-x3)*(x5-x4)*(x5-x0))\n",
    "    \n",
    "    total = a+b+c+d+e+f\n",
    "    print('Population in '+ str(year) + ': ' + str(round(total)))"
   ]
  },
  {
   "cell_type": "markdown",
   "metadata": {},
   "source": [
    "So based on Lagrange interpolation formula, I calculate by hand and use this program to caluculate. Both give the same results for 1950, 1975, 2014 and 2020. I believed this results are not correct. However, when I tried to calculate for some existent years like 1960, 1970, 1980 based on the above formula, it gives the exact results. I do not know what's wrong with this formula or may I use it wrong.\n",
    "\n",
    "c) This is the population from linear regression:\n",
    "1950: 151038 (thousands)\n",
    "1975: 215649\n",
    "2014: 316444\n",
    "2020: 331951\n",
    "\n",
    "Linear regression seems to give the results accurately.\n"
   ]
  },
  {
   "cell_type": "code",
   "execution_count": null,
   "metadata": {},
   "outputs": [],
   "source": []
  }
 ],
 "metadata": {
  "kernelspec": {
   "display_name": "Python 3",
   "language": "python",
   "name": "python3"
  },
  "language_info": {
   "codemirror_mode": {
    "name": "ipython",
    "version": 3
   },
   "file_extension": ".py",
   "mimetype": "text/x-python",
   "name": "python",
   "nbconvert_exporter": "python",
   "pygments_lexer": "ipython3",
   "version": "3.6.8"
  }
 },
 "nbformat": 4,
 "nbformat_minor": 2
}
