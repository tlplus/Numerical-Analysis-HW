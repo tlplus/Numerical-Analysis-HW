{
 "cells": [
  {
   "cell_type": "markdown",
   "metadata": {},
   "source": [
    "Write a function that takes as inputs a number x and a vector y and\n",
    "returns the product(𝑥 − 𝑦1) × ⋯ × (𝑥 − 𝑦𝑛) where 𝑦 = (𝑦1, ... , 𝑦𝑛)."
   ]
  },
  {
   "cell_type": "code",
   "execution_count": 1,
   "metadata": {},
   "outputs": [
    {
     "name": "stdout",
     "output_type": "stream",
     "text": [
      "How many numbers? (n >= 1) 4\n",
      "What is the value of x? 10\n",
      "What is the value of x0?   2\n",
      "What is the value of x1?   3\n",
      "What is the value of x2?   4\n",
      "What is the value of x3?   5\n",
      "The product is 1680\n"
     ]
    }
   ],
   "source": [
    "n = int(input(\"How many numbers? (n >= 1) \"))\n",
    "x = int(input(\"What is the value of x? \"))\n",
    "PRODUCT = 1\n",
    "\n",
    "for i in range(n):\n",
    "    x0 = int(input(\"What is the value of x\" + str(i) + \"?   \"))\n",
    "    PRODUCT = PRODUCT * (x - x0)\n",
    "print(\"The product is \"+str(PRODUCT))"
   ]
  },
  {
   "cell_type": "code",
   "execution_count": null,
   "metadata": {},
   "outputs": [],
   "source": []
  }
 ],
 "metadata": {
  "kernelspec": {
   "display_name": "Python 3",
   "language": "python",
   "name": "python3"
  },
  "language_info": {
   "codemirror_mode": {
    "name": "ipython",
    "version": 3
   },
   "file_extension": ".py",
   "mimetype": "text/x-python",
   "name": "python",
   "nbconvert_exporter": "python",
   "pygments_lexer": "ipython3",
   "version": "3.6.8"
  }
 },
 "nbformat": 4,
 "nbformat_minor": 2
}
